{
 "cells": [
  {
   "cell_type": "markdown",
   "metadata": {},
   "source": [
    "![](https://pbs.twimg.com/media/DexWr4OXcAAHFjc.jpg)\n",
    "\n",
    "\n",
    "## -1. Git. Github. Публикация решения.\n",
    "\n",
    "\n",
    "https://github.com/\n",
    "\n",
    "\n",
    "### Task -1. \n",
    "\n",
    " - Зарегистрироваться на github (https://vertex-academy.com/tutorials/ru/kak-zaregistrirovatsya-na-github/)\n",
    "     Замечание! К выбору логина подойдите ответственно, возможно, это пригодится вам в дальнейшемЙ\n",
    " - Отправить на почту letlevin@gmail.com Ваш логин от github или в телеграме @andreylev .\n",
    " - После ответа от меня зайти по https://contest.internat.msu.ru/ . Должно работать!\n",
    " - Upload эту тетрадь math-practice-lesson-01.ipynd в вашу папку\n",
    " - Попробовать запустить. Если не получается, то написать на почту.\n",
    " - Мы будем работать в среде jupyter notebook. Почитать о среде можно https://proglib.io/p/jupyter или https://devpractice.ru/python-lesson-6-work-in-jupyter-notebook/\n",
    " \n",
    "\n",
    "### Отправка заданий (после выполнения)\n",
    "\n",
    " - Отправить мне на почту до следующего семинара выполненный файл с заданием\n",
    "\n",
    "File -> Download as -> Notebook (.ipynb)\n",
    "\n",
    "Удачи!\n",
    "\n",
    "\n"
   ]
  },
  {
   "cell_type": "markdown",
   "metadata": {},
   "source": [
    "![](https://www.bitdegree.org/storage/course-image/376390-4ORyJWLYoc-python-at-super-human-speed-official-course-by-sagar-bansal-ru.jpg)\n",
    "\n",
    "\n",
    "## 0. Python <3 Math\n",
    "\n",
    "\n",
    "Самоучитель по Python\n",
    "\n",
    "https://pythonworld.ru/samouchitel-python\n",
    "    \n",
    "PEP 8 - руководство по написанию кода на Python\n",
    "\n",
    "https://pythonworld.ru/osnovy/pep-8-rukovodstvo-po-napisaniyu-koda-na-python.html\n",
    "\n"
   ]
  },
  {
   "cell_type": "code",
   "execution_count": 2,
   "metadata": {},
   "outputs": [
    {
     "name": "stdout",
     "output_type": "stream",
     "text": [
      "597\n",
      "500 97 597\n"
     ]
    }
   ],
   "source": [
    "x = 500\n",
    "y = 97\n",
    "\n",
    "z = x + y\n",
    "print(z)\n",
    "print(x, y, z)"
   ]
  },
  {
   "cell_type": "code",
   "execution_count": 54,
   "metadata": {},
   "outputs": [],
   "source": [
    "x = 5\n",
    "\n"
   ]
  },
  {
   "cell_type": "code",
   "execution_count": 55,
   "metadata": {
    "scrolled": true
   },
   "outputs": [
    {
     "name": "stdout",
     "output_type": "stream",
     "text": [
      "0\n",
      "0 0\n",
      "1 1\n",
      "2 4\n",
      "3 9\n",
      "8 64\n"
     ]
    }
   ],
   "source": [
    "### Функция\n",
    "\n",
    "def f(x):\n",
    "    x = x * x\n",
    "    \n",
    "    return x\n",
    "\n",
    "\n",
    "x = 0\n",
    "print(x)\n",
    "print(x, f(x))\n",
    "x = 1\n",
    "print(x, f(x))\n",
    "x = 2\n",
    "print(x, f(x))\n",
    "x = 3\n",
    "print(x, f(x))\n",
    "x = 8\n",
    "print(x, f(x))"
   ]
  },
  {
   "cell_type": "code",
   "execution_count": 56,
   "metadata": {},
   "outputs": [
    {
     "name": "stdout",
     "output_type": "stream",
     "text": [
      "aescmsu\n"
     ]
    }
   ],
   "source": [
    "### Список ~=  массив\n",
    "### https://pythonworld.ru/tipy-dannyx-v-python/spiski-list-funkcii-i-metody-spiskov.html\n",
    "\n",
    "spisok = [0, 1, 2, 3, 4,]\n",
    "spisok = 'aescmsu'\n",
    "\n",
    "print(spisok)"
   ]
  },
  {
   "cell_type": "code",
   "execution_count": 57,
   "metadata": {},
   "outputs": [
    {
     "name": "stdout",
     "output_type": "stream",
     "text": [
      "a\n",
      "e\n",
      "s\n",
      "c\n",
      "m\n",
      "s\n",
      "u\n"
     ]
    }
   ],
   "source": [
    "### For\n",
    "\n",
    "for element in spisok:\n",
    "    print(element)"
   ]
  },
  {
   "cell_type": "code",
   "execution_count": 58,
   "metadata": {},
   "outputs": [
    {
     "name": "stdout",
     "output_type": "stream",
     "text": [
      "0\n",
      "1\n",
      "2\n",
      "3\n",
      "4\n"
     ]
    }
   ],
   "source": [
    "### Range in for\n",
    "\n",
    "for element in range(5):\n",
    "    print(element)"
   ]
  },
  {
   "cell_type": "code",
   "execution_count": 60,
   "metadata": {},
   "outputs": [
    {
     "name": "stdout",
     "output_type": "stream",
     "text": [
      "0\n",
      "1\n",
      "4\n",
      "9\n",
      "16\n",
      "25\n"
     ]
    }
   ],
   "source": [
    "def f(x):\n",
    "    x = x * x\n",
    "    \n",
    "    return x\n",
    "\n",
    "\n",
    "for element in range(6):\n",
    "    print(f(element))\n"
   ]
  },
  {
   "cell_type": "markdown",
   "metadata": {},
   "source": [
    "![](https://miro.medium.com/proxy/0*Yg8bBB4m51CHOAgd.jpg)\n",
    "\n",
    "# 1.1 Рекуррентные соотношения\n",
    "\n",
    "Про рекурсию в python (кому интересно)\n",
    "\n",
    "https://pythontutor.ru/lessons/functions/\n",
    "\n",
    "https://foxford.ru/wiki/informatika/rekursiya-v-python"
   ]
  },
  {
   "cell_type": "code",
   "execution_count": 61,
   "metadata": {
    "scrolled": true
   },
   "outputs": [
    {
     "name": "stdout",
     "output_type": "stream",
     "text": [
      "6\n",
      "1551118753287382280224243016469303211063259720016986112000000000000\n"
     ]
    }
   ],
   "source": [
    "def factorial(n):\n",
    "    res = 1\n",
    "    for i in range(1, n + 1):\n",
    "        res *= i\n",
    "    return res\n",
    "\n",
    "\n",
    "print(factorial(3))\n",
    "print(factorial(51))"
   ]
  },
  {
   "cell_type": "code",
   "execution_count": 62,
   "metadata": {},
   "outputs": [
    {
     "name": "stdout",
     "output_type": "stream",
     "text": [
      "6\n",
      "1551118753287382280224243016469303211063259720016986112000000000000\n"
     ]
    }
   ],
   "source": [
    "### Рекурсивное вычисление факториала\n",
    "\n",
    "def factorial(n):\n",
    "    if n == 0:\n",
    "        return 1\n",
    "    else:\n",
    "        return n * factorial(n - 1)\n",
    "\n",
    "\n",
    "print(factorial(4))\n",
    "print(factorial(51))"
   ]
  },
  {
   "cell_type": "markdown",
   "metadata": {},
   "source": [
    "### Task 1.1.1\n",
    "\n",
    "Найти n число Фиббоначи, где `n = 36 - your_n_in_class`.\n",
    "\n",
    "* 1-daniil-v\n",
    "\n",
    "* 2-konstantin-v\n",
    "\n",
    "* 3-roman-g\n",
    "\n",
    "* 4-ekaterina-d\n",
    "\n",
    "* 5-gleb-i\n",
    "\n",
    "* 6-bogdan-i\n",
    "\n",
    "* 7-aleksandr-k\n",
    "\n",
    "* 8-vyacheslav-k\n",
    "\n",
    "* 9-aleksandr-k\n",
    "\n",
    "* 10-andrey-k\n",
    "\n",
    "* 11-aleksey-k\n",
    "\n",
    "* 12-vladislav-l\n",
    "\n",
    "* 13-vladimir-l\n",
    "\n",
    "* 14-alsu-m\n",
    "\n",
    "* 15-vladislav-m\n",
    "\n",
    "* 16-arseniy-p\n",
    "\n",
    "* 17-egor-p\n",
    "\n",
    "* 18-yuliya-c\n",
    "\n",
    "* 19-timur-s\n",
    "\n",
    "* 20-andrey-l\n"
   ]
  },
  {
   "cell_type": "code",
   "execution_count": 2,
   "metadata": {},
   "outputs": [
    {
     "name": "stdout",
     "output_type": "stream",
     "text": [
      "377\n"
     ]
    }
   ],
   "source": [
    "### Task 1.1.1. Solution:\n",
    "\n",
    "def fibonachi(n):\n",
    "    if n <= 2:\n",
    "        return 1\n",
    "    else: \n",
    "        return fibonachi(n-2) + fibonachi (n - 1)\n",
    "\n",
    "\n",
    "print(fibonachi(14))\n",
    "\n",
    "\n",
    "\n"
   ]
  },
  {
   "cell_type": "markdown",
   "metadata": {},
   "source": [
    "### Task 1.1.2\n",
    "\n",
    "У Вас были задания от Матпрак. 10Г, 25.10.19  https://www.dropbox.com/s/rre08uth1tqz34b/LinearRecurrences.pdf?dl=0 \n",
    "пункт 2 Произвольная линейные рекуррентные соотношения.\n",
    "\n",
    "по типу \n",
    "```python\n",
    "xn2 = 6 * xn1 + 5 xn\n",
    "x0 = 3\n",
    "x1 = 8\n",
    "```\n",
    "\n",
    "Выбрать свою функцию и реализовавть нахождение произвольного елемента\n",
    "\n"
   ]
  },
  {
   "cell_type": "code",
   "execution_count": 74,
   "metadata": {},
   "outputs": [
    {
     "name": "stdout",
     "output_type": "stream",
     "text": [
      "у меня не получается открыть сайт :(\n"
     ]
    }
   ],
   "source": [
    "### Task 1.1.2. Solution:\n",
    "\n",
    "print ('у меня не получается открыть сайт :(')\n"
   ]
  },
  {
   "cell_type": "markdown",
   "metadata": {},
   "source": [
    "\n",
    "![](https://matplotlib.org/_static/logo2_compressed.svg)\n",
    "\n",
    "# 1.2 . Рисование. Matplotlib\n",
    "\n",
    "### Много примеров\n",
    "\n",
    "https://matplotlib.org/gallery/index.html\n",
    "\n",
    "Можно почитать подробнее https://devpractice.ru/matplotlib-lesson-1-quick-start-guide/ или  https://python-scripts.com/matplotlib\n"
   ]
  },
  {
   "cell_type": "code",
   "execution_count": 66,
   "metadata": {},
   "outputs": [
    {
     "name": "stdout",
     "output_type": "stream",
     "text": [
      "[0 1 2 3 4 5 6 7 8 9]\n",
      "[3 4 5 6 7 8 9]\n",
      "[1.   1.25 1.5  1.75 2.   2.25 2.5  2.75 3.   3.25 3.5  3.75 4.   4.25\n",
      " 4.5  4.75 5.   5.25 5.5  5.75 6.   6.25 6.5  6.75 7.   7.25 7.5  7.75\n",
      " 8.   8.25 8.5  8.75 9.   9.25 9.5  9.75]\n"
     ]
    }
   ],
   "source": [
    "### Создание списка точек\n",
    "\n",
    "import numpy as np\n",
    "\n",
    "spisok = np.arange(10)\n",
    "print(spisok)\n",
    "\n",
    "spisok = np.arange(3, 10)\n",
    "print(spisok)\n",
    "\n",
    "spisok = np.arange(1, 10, 0.25)\n",
    "print(spisok)\n"
   ]
  },
  {
   "cell_type": "code",
   "execution_count": 67,
   "metadata": {},
   "outputs": [
    {
     "data": {
      "image/png": "[encoded data removed]",
      "text/plain": [
       "<Figure size 432x288 with 1 Axes>"
      ]
     },
     "metadata": {
      "needs_background": "light"
     },
     "output_type": "display_data"
    },
    {
     "name": "stdout",
     "output_type": "stream",
     "text": [
      "[-10  -9  -8  -7  -6  -5  -4  -3  -2  -1   0   1   2   3   4   5   6   7\n",
      "   8   9]\n"
     ]
    }
   ],
   "source": [
    "### Рисование простейшего графика\n",
    "\n",
    "%matplotlib inline\n",
    "import matplotlib.pyplot as plt\n",
    "import numpy as np\n",
    "\n",
    "# инциализация фигуры\n",
    "plt.figure()\n",
    "\n",
    "# генерация точек x =  [-10  -9  -8  -7  -6  -5  -4  -3  -2  -1   0   1   2   3   4   5   6   7 8   9]\n",
    "x = np.arange(-10, 10)\n",
    "\n",
    "# Рисование графика y(x) = x + 1\n",
    "plt.plot(x, x + 2)\n",
    "\n",
    "# Показ графика\n",
    "plt.show()\n",
    "\n",
    "print(x)"
   ]
  },
  {
   "cell_type": "code",
   "execution_count": 68,
   "metadata": {},
   "outputs": [
    {
     "data": {
      "image/png": "[encoded data removed]",
      "text/plain": [
       "<Figure size 432x288 with 1 Axes>"
      ]
     },
     "metadata": {
      "needs_background": "light"
     },
     "output_type": "display_data"
    },
    {
     "name": "stdout",
     "output_type": "stream",
     "text": [
      "[-10  -7  -4  -1   2   5   8]\n"
     ]
    }
   ],
   "source": [
    "# Пример выбора меньшего разбиения  => Получаем ломанный график\n",
    "# x = [-10  -7  -4  -1   2   5   8]\n",
    "\n",
    "%matplotlib inline\n",
    "import matplotlib.pyplot as plt\n",
    "import numpy as np\n",
    "\n",
    "plt.figure()\n",
    "x = np.arange(-10, 10, 3)\n",
    "plt.plot(x, x * x)\n",
    "\n",
    "plt.show()\n",
    "print(x)"
   ]
  },
  {
   "cell_type": "code",
   "execution_count": null,
   "metadata": {},
   "outputs": [],
   "source": [
    "# Увеличим количество точек оси x\n",
    "\n",
    "%matplotlib inline\n",
    "import matplotlib.pyplot as plt\n",
    "import numpy as np\n",
    "\n",
    "plt.figure()\n",
    "x = np.arange(-10, 10, 0.2)\n",
    "plt.plot(x, x * x)\n",
    "\n",
    "plt.show()\n"
   ]
  },
  {
   "cell_type": "code",
   "execution_count": 70,
   "metadata": {},
   "outputs": [
    {
     "data": {
      "image/png": "[encoded data removed]",
      "text/plain": [
       "<Figure size 432x288 with 1 Axes>"
      ]
     },
     "metadata": {
      "needs_background": "light"
     },
     "output_type": "display_data"
    }
   ],
   "source": [
    "### Добавление координатной сетки\n",
    "\n",
    "%matplotlib inline\n",
    "import matplotlib.pyplot as plt\n",
    "\n",
    "plt.figure()\n",
    "x = np.arange(-10, 10)\n",
    "plt.plot(x, x * x)\n",
    "\n",
    "# Добавление сетки происходит вызовом вот этого метода\n",
    "plt.grid()\n",
    "\n",
    "plt.show()"
   ]
  },
  {
   "cell_type": "code",
   "execution_count": 71,
   "metadata": {
    "scrolled": true
   },
   "outputs": [
    {
     "data": {
      "image/png": "[encoded data removed]",
      "text/plain": [
       "<Figure size 432x288 with 1 Axes>"
      ]
     },
     "metadata": {
      "needs_background": "light"
     },
     "output_type": "display_data"
    }
   ],
   "source": [
    "# Рисование нескольких графиков на одном\n",
    "\n",
    "# y(x) = x + 1\n",
    "# y(x) = x*x\n",
    "# y(x) = x*x*x\n",
    "\n",
    "%matplotlib inline\n",
    "import matplotlib.pyplot as plt\n",
    "\n",
    "plt.figure()\n",
    "x = np.arange(-10, 10)\n",
    "plt.plot(x, x + 1)\n",
    "plt.plot(x, x * x)\n",
    "plt.plot(x, x * x * x)\n",
    "\n",
    "plt.show()"
   ]
  },
  {
   "cell_type": "code",
   "execution_count": 72,
   "metadata": {
    "scrolled": false
   },
   "outputs": [
    {
     "data": {
      "image/png": "[encoded data removed]",
      "text/plain": [
       "<Figure size 576x576 with 1 Axes>"
      ]
     },
     "metadata": {
      "needs_background": "light"
     },
     "output_type": "display_data"
    }
   ],
   "source": [
    "# Сохранение пропорций 1:1\n",
    "\n",
    "%matplotlib inline\n",
    "import matplotlib.pyplot as plt\n",
    "\n",
    "plt.figure(figsize=(8,8))\n",
    "x = np.arange(-10, 10, 0.2)\n",
    "plt.plot(x, x + 1)\n",
    "plt.plot(x, x * x)\n",
    "plt.plot(x, x * x * x)\n",
    "\n",
    "plt.ylim(-10, 10)\n",
    "plt.grid()\n",
    "plt.show()\n",
    "\n",
    "\n"
   ]
  },
  {
   "cell_type": "markdown",
   "metadata": {},
   "source": [
    "### Task 1.2.1 Простое рисование\n",
    "\n",
    "Используя примеры \n",
    "\n",
    "https://matplotlib.org/gallery/index.html\n",
    "\n",
    " - Нарисовать на одном графике 3 графика функций, где ваши график определяются \n",
    " \n",
    " \n",
    "        your_equation_1 = (your_n) mod 5 + 1\n",
    "\n",
    "            y(x) = 5x^3-x^2-20x + 4\n",
    "\n",
    "            y(x) = 7x^3 + 3x^2 - x - 9\n",
    "\n",
    "            y(x) = 2x^3 + 5x^2 + 3x - 3\n",
    "\n",
    "            y(x) = (2x+1)^3 - 27 \n",
    "\n",
    "            y(x) = 8x^3 + 12x^2 + 6x + 1\n",
    "\n",
    "\n",
    "        your_equation_2 = (your_n)^2 mod 6 + 1\n",
    "\n",
    "\n",
    "            y(x) = 2x^2 - 7x + 3\n",
    "\n",
    "            y(x) = 3x^2 - 14x -5\n",
    "\n",
    "            y(x) = (4x + 5)^2 - (4x + 4)^2\n",
    "\n",
    "            y(x) = 160x - (5x + 8)^2\n",
    "\n",
    "            y(x) = 2x^2 - 8\n",
    "\n",
    "            y(x) = 18 - 7x - x^2\n",
    "\n",
    "\n",
    "        your_equation_3 = (your_n)^3 mod 5 + 1\n",
    "\n",
    "            y(x) = 8 - 3x\n",
    "\n",
    "            y(x) = 15 - 3/2 x\n",
    "\n",
    "            y(x) = - 4 - 2x\n",
    "\n",
    "            y(x) = 4x + 12\n",
    "\n",
    "            y(x) = x + x + 4 + 4\n",
    "\n",
    " \n",
    " \n",
    " - Из информации по ссылке https://matplotlib.org/gallery/index.html понять, как добавить подписи координат под графиком, добоавить название нарисованных. И сделать это на Вашем графике.\n",
    " \n",
    "\n",
    " - Также из информации по ссылке https://matplotlib.org/gallery/index.html понять принцип изменения цвета графика и перекрасить ваши графики в красный, желтый, зеленый.\n",
    "\n",
    "\n"
   ]
  },
  {
   "cell_type": "code",
   "execution_count": 39,
   "metadata": {},
   "outputs": [
    {
     "data": {
      "image/png": "[encoded data removed]",
      "text/plain": [
       "<Figure size 432x288 with 1 Axes>"
      ]
     },
     "metadata": {
      "needs_background": "light"
     },
     "output_type": "display_data"
    }
   ],
   "source": [
    "### Task 1.2.1. Solution:\n",
    "\n",
    "import matplotlib.pyplot as plt\n",
    "import numpy as np\n",
    "import matplotlib as mpl\n",
    "\n",
    "x = np.linspace(-10, 10)\n",
    "\n",
    "plt.plot(x,8*x*x*x + 12*x*x + 6*x + 1 ,color = 'red', label = 'y(x) = 8x^3 + 12x^2 + 6x + 1' )\n",
    "plt.plot(x,2*x*x - 8, color = 'yellow',label = 'y(x) = 2x^2 - 8')\n",
    "plt.plot(x,x + x + 4 + 4, color = 'blue', label = 'y(x) = x + x + 4 + 4')\n",
    "\n",
    "plt.ylim(-10,50)\n",
    "\n",
    "\n",
    "\n",
    "\n",
    "\n",
    "\n",
    "plt.grid(True)\n",
    "plt.legend()\n",
    "\n",
    "plt.show()\n",
    "\n",
    "\n",
    "\n",
    "\n",
    "\n",
    "\n",
    "\n",
    "\n",
    "\n",
    "\n",
    "\n",
    "\n",
    "\n",
    "\n",
    "\n",
    "\n",
    "\n"
   ]
  },
  {
   "cell_type": "code",
   "execution_count": 10,
   "metadata": {},
   "outputs": [
    {
     "data": {
      "image/png": "[encoded data removed]",
      "text/plain": [
       "<Figure size 432x288 with 1 Axes>"
      ]
     },
     "metadata": {
      "needs_background": "light"
     },
     "output_type": "display_data"
    }
   ],
   "source": [
    "### На график можно добавлять точки. Это удобно для внесения дополнительной информации\n",
    "\n",
    "%matplotlib inline\n",
    "import matplotlib.pyplot as plt\n",
    "\n",
    "\n",
    "plt.figure()\n",
    "x = np.arange(-10, 10, 0.2)\n",
    "plt.plot(x, x + 1)\n",
    "plt.plot(x, x * x)\n",
    "plt.ylim(-10, 10)\n",
    "\n",
    "# Добавление точки\n",
    "plt.scatter(0 , 5)\n",
    "# Добавление точки\n",
    "plt.scatter(7 , 1)\n",
    "\n",
    "# Добавление точки\n",
    "### Можно указать также увеличить ее размер\n",
    "plt.scatter(1 , 1, 500)\n",
    "\n",
    "plt.show()\n"
   ]
  },
  {
   "cell_type": "markdown",
   "metadata": {},
   "source": [
    "### Task 1.2.2 Добавить на график task 1.2.1 точки персечения графиков СИНИМ цветом и точки пересечения функций с осью OX фиолетовым.\n",
    "\n"
   ]
  },
  {
   "cell_type": "code",
   "execution_count": 20,
   "metadata": {},
   "outputs": [
    {
     "data": {
      "image/png": "[encoded data removed]",
      "text/plain": [
       "<Figure size 432x288 with 1 Axes>"
      ]
     },
     "metadata": {
      "needs_background": "light"
     },
     "output_type": "display_data"
    }
   ],
   "source": [
    "### Task 1.2.2. Solution:\n",
    "\n",
    "import matplotlib.pyplot as plt\n",
    "import numpy as np\n",
    "import matplotlib as mpl\n",
    "import math\n",
    "\n",
    "\n",
    "def kvadratnoye(a, b, c, y):\n",
    "    x1 =(-b+math.sqrt(b*b-4*(c-y)*a))/2/a\n",
    "    yk = 2*x1*x1 - 8\n",
    "    if yk != 0 :\n",
    "        plt.scatter(x1 , yk, color = 'purple') \n",
    "    else :\n",
    "        plt.scatter(x1 , yk, color = 'blue')    \n",
    "    x2 =(-b-math.sqrt(b*b-4*(c-y)*a))/2/a\n",
    "    yk = 2*x2*x2 - 8\n",
    "    if yk != 0 :\n",
    "        plt.scatter(x2 , yk, color = 'purple') \n",
    "    else :\n",
    "        plt.scatter(x2 , yk, color = 'blue')    \n",
    "    \n",
    "def lineynoye(a,b,y):\n",
    "    x1 = (y - b)/a\n",
    "    if y!= 0 :\n",
    "        plt.scatter(x1 , y, color = 'purple')\n",
    "    else :\n",
    "        plt.scatter (x1, y, color = 'blue')\n",
    "    \n",
    "    \n",
    "    \n",
    "    \n",
    "    \n",
    "x = np.linspace(-10, 10)\n",
    "\n",
    "plt.plot(x,8*x*x*x + 12*x*x + 6*x + 1 ,color = 'red', label = 'y(x) = 8x^3 + 12x^2 + 6x + 1' )\n",
    "plt.plot(x,2*x*x - 8, color = 'yellow',label = 'y(x) = 2x^2 - 8')\n",
    "plt.plot(x,x + x + 4 + 4, color = 'blue', label = 'y(x) = x + x + 4 + 4')\n",
    "\n",
    "kvadratnoye(2,0,-8,0)\n",
    "lineynoye(2,8,0)\n",
    "plt.scatter(-0.5 , 0)\n",
    "kvadratnoye(2,-2,-16,0)\n",
    "plt.scatter(0.5,9, color = 'purple')\n",
    "plt.scatter(-1.325,-8*1.325*1.325*1.325 + 12*1.325*1.325 - 6*1.325 + 1, color = 'purple')\n",
    "\n",
    "\n",
    "\n",
    "\n",
    "plt.ylim(-20,50)\n",
    "\n",
    "\n",
    "\n",
    "plt.grid(True)\n",
    "plt.legend()\n",
    "plt.show()\n",
    "\n",
    "\n",
    "\n",
    "\n",
    "\n",
    "\n",
    "\n",
    "\n",
    "\n",
    "\n",
    "\n",
    "\n",
    "\n",
    "\n",
    "\n",
    "\n",
    "\n",
    "\n",
    "\n"
   ]
  },
  {
   "cell_type": "code",
   "execution_count": 76,
   "metadata": {},
   "outputs": [
    {
     "name": "stdout",
     "output_type": "stream",
     "text": [
      "0 0\n",
      "1 1\n",
      "2 4\n",
      "3 9\n",
      "4 16\n",
      "5 25\n",
      "6 36\n",
      "7 49\n",
      "8 64\n",
      "9 81\n"
     ]
    }
   ],
   "source": [
    "### У нас были реккурентные последователосности \n",
    "\n",
    "def xn(n):\n",
    "    return n * n\n",
    "\n",
    "spisok_n = range(10)\n",
    "\n",
    "\n",
    "for n in spisok_n:\n",
    "    print(n, xn(n))\n"
   ]
  },
  {
   "cell_type": "code",
   "execution_count": 27,
   "metadata": {},
   "outputs": [
    {
     "data": {
      "image/png": "[encoded data removed]",
      "text/plain": [
       "<Figure size 432x288 with 1 Axes>"
      ]
     },
     "metadata": {
      "needs_background": "light"
     },
     "output_type": "display_data"
    }
   ],
   "source": [
    "### Попробуем нарисовать\n",
    "\n",
    "%matplotlib inline\n",
    "import matplotlib.pyplot as plt\n",
    "\n",
    "\n",
    "plt.figure()\n",
    "n = np.arange(10)\n",
    "\n",
    "\n",
    "plt.scatter(n, n * n)\n",
    "plt.scatter(7 , 1)\n",
    "\n",
    "\n",
    "\n",
    "plt.show()\n",
    "\n",
    "\n"
   ]
  },
  {
   "cell_type": "markdown",
   "metadata": {},
   "source": [
    "### Task 1.2.3 Нарисовать вашу реккурентную последовательность из задачи task 1.1.2\n",
    "\n"
   ]
  },
  {
   "cell_type": "code",
   "execution_count": 75,
   "metadata": {},
   "outputs": [],
   "source": [
    "### Task 1.2.3 Solution: \n",
    "\n",
    "\n",
    "\n",
    "\n",
    "\n",
    "\n",
    "\n",
    "\n",
    "\n",
    "\n",
    "\n",
    "\n",
    "\n",
    "\n",
    "\n",
    "\n",
    "\n",
    "\n",
    "\n",
    "\n",
    "\n",
    "\n"
   ]
  },
  {
   "cell_type": "markdown",
   "metadata": {},
   "source": [
    "# 1.3. Интерактивные движки\n",
    "\n",
    "Описание\n",
    "\n",
    "https://ipywidgets.readthedocs.io/en/latest/examples/Using%20Interact.html#\n",
    "\n",
    "\n"
   ]
  },
  {
   "cell_type": "code",
   "execution_count": 33,
   "metadata": {},
   "outputs": [
    {
     "data": {
      "application/vnd.jupyter.widget-view+json": {
       "model_id": "f1f6dc0affd5442981bc8b4a99d8db4f",
       "version_major": 2,
       "version_minor": 0
      },
      "text/plain": [
       "interactive(children=(IntSlider(value=10, description='x', max=30, min=-10), Output()), _dom_classes=('widget-…"
      ]
     },
     "metadata": {},
     "output_type": "display_data"
    }
   ],
   "source": [
    "# Добавление интерактивного ползунка\n",
    "\n",
    "from ipywidgets import interact, interactive, fixed, interact_manual\n",
    "import ipywidgets as widgets\n",
    "\n",
    "def f(x):\n",
    "    return x\n",
    "\n",
    "\n",
    "interact(f, x=10);"
   ]
  },
  {
   "cell_type": "code",
   "execution_count": 34,
   "metadata": {},
   "outputs": [
    {
     "data": {
      "application/vnd.jupyter.widget-view+json": {
       "model_id": "64e2bcc3b8924cb2a043c1c3ebc35e51",
       "version_major": 2,
       "version_minor": 0
      },
      "text/plain": [
       "interactive(children=(FloatSlider(value=5.0, description='x', max=10.0), Output()), _dom_classes=('widget-inte…"
      ]
     },
     "metadata": {},
     "output_type": "display_data"
    }
   ],
   "source": [
    "# Изменение отрезка \n",
    "\n",
    "from ipywidgets import interact, interactive, fixed, interact_manual\n",
    "import ipywidgets as widgets\n",
    "\n",
    "def f(x):\n",
    "    return x\n",
    "\n",
    "\n",
    "# Изменение отрезка \n",
    "\n",
    "interact(f, x=(0.0,10.0));"
   ]
  },
  {
   "cell_type": "code",
   "execution_count": 35,
   "metadata": {},
   "outputs": [
    {
     "data": {
      "application/vnd.jupyter.widget-view+json": {
       "model_id": "7d07d129383749cfa5f8bb1440c95ff8",
       "version_major": 2,
       "version_minor": 0
      },
      "text/plain": [
       "interactive(children=(IntSlider(value=10, description='a', max=30, min=-10), IntSlider(value=20, description='…"
      ]
     },
     "metadata": {},
     "output_type": "display_data"
    }
   ],
   "source": [
    "# Несколько ползунков\n",
    "\n",
    "from IPython.display import display\n",
    "\n",
    "def f(a, b):\n",
    "    display(a + b)\n",
    "    return a+b\n",
    "\n",
    "interactive(f, a=10, b=20)"
   ]
  },
  {
   "cell_type": "code",
   "execution_count": 36,
   "metadata": {},
   "outputs": [
    {
     "data": {
      "application/vnd.jupyter.widget-view+json": {
       "model_id": "ec17b8171bf644e19257ef2bb45211b7",
       "version_major": 2,
       "version_minor": 0
      },
      "text/plain": [
       "interactive(children=(FloatSlider(value=0.0, description='a', max=10.0, min=-10.0), Output()), _dom_classes=('…"
      ]
     },
     "metadata": {},
     "output_type": "display_data"
    }
   ],
   "source": [
    "# Изменение ползунком параметра функций y(x) = ax^2 и y(x)=ax\n",
    "%matplotlib inline\n",
    "from ipywidgets import interactive\n",
    "import matplotlib.pyplot as plt\n",
    "import numpy as np\n",
    "\n",
    "\n",
    "def f(a):\n",
    "    plt.figure()\n",
    "    x = np.linspace(-10, 10)\n",
    "    \n",
    "    plt.plot(x, a * x * x)\n",
    "    \n",
    "    plt.plot(x, a * x )\n",
    "    \n",
    "    \n",
    "    plt.ylim(-20, 20)\n",
    "    plt.show()\n",
    "\n",
    "    \n",
    "interactive(f, a=(-10.0, 10.0))\n"
   ]
  },
  {
   "cell_type": "markdown",
   "metadata": {},
   "source": [
    "![](https://upload.wikimedia.org/wikipedia/commons/thumb/1/1a/NumPy_logo.svg/775px-NumPy_logo.svg.png)\n",
    "\n",
    "# Математические функции pi, sin, cos, tg\n",
    "\n",
    "### Полное описание \n",
    "\n",
    "https://docs.scipy.org/doc/numpy/reference/routines.math.html\n",
    "    "
   ]
  },
  {
   "cell_type": "code",
   "execution_count": null,
   "metadata": {},
   "outputs": [],
   "source": [
    "# Константы\n",
    "\n",
    "import numpy as np\n",
    "\n",
    "x = np.pi\n",
    "print(x)\n",
    "\n",
    "x = np.e\n",
    "print(x)\n",
    "\n",
    "x = np.exp(1)\n",
    "print(x)\n",
    "\n",
    "### Sin\n",
    "\n",
    "x = 0\n",
    "y = np.sin(x)\n",
    "print(y)\n",
    "\n",
    "x = np.pi\n",
    "y = np.sin(x)\n",
    "print(y)"
   ]
  },
  {
   "cell_type": "code",
   "execution_count": null,
   "metadata": {},
   "outputs": [],
   "source": [
    "# Сложные функции на графике\n",
    "\n",
    "import matplotlib.pyplot as plt\n",
    "import numpy as np\n",
    "\n",
    "x = np.linspace(-10, 10)\n",
    "\n",
    "plt.plot(x, np.sin(x), color = 'red')\n",
    "plt.title('sqrt(x)')\n",
    "\n",
    "\n",
    "plt.grid(True)\n",
    "plt.show()"
   ]
  },
  {
   "cell_type": "markdown",
   "metadata": {},
   "source": [
    "### Task 1.3.1 Нарисовать сложную функцию из списка\n",
    "\n",
    "где ваша функци определяется \n",
    "\n",
    "your_function = n + 3 mod 8 + 1\n",
    "\n",
    "    'cos(x)',\n",
    "    '1/x',\n",
    "    'x^3',\n",
    "    'log_2(x)',\n",
    "    'e^(x)',\n",
    "    'tg(x)',\n",
    "    'fabs(x)',\n",
    "    'sqrt(x)'\n",
    "\n"
   ]
  },
  {
   "cell_type": "code",
   "execution_count": 40,
   "metadata": {},
   "outputs": [
    {
     "data": {
      "image/png": "[encoded data removed]",
      "text/plain": [
       "<Figure size 432x288 with 1 Axes>"
      ]
     },
     "metadata": {
      "needs_background": "light"
     },
     "output_type": "display_data"
    }
   ],
   "source": [
    "### Task 1.3.1 Solution: \n",
    "\n",
    "import matplotlib.pyplot as plt\n",
    "import numpy as np\n",
    "\n",
    "x = np.linspace(-10.00, 10.00)\n",
    "\n",
    "plt.plot(x, 1/x, color = 'red')\n",
    "plt.title('1 / x')\n",
    "\n",
    "\n",
    "plt.grid(True)\n",
    "plt.show()\n",
    "\n",
    "\n",
    "\n",
    "\n",
    "\n",
    "\n",
    "\n",
    "\n",
    "\n",
    "\n",
    "\n",
    "\n",
    "\n",
    "\n",
    "\n",
    "\n",
    "\n",
    "\n",
    "\n",
    "\n",
    "\n",
    "\n",
    "\n",
    "\n",
    "\n",
    "\n",
    "\n"
   ]
  },
  {
   "cell_type": "markdown",
   "metadata": {},
   "source": [
    "### Task 1.3.2 Нарисовать систему функций с 2 параметрами c динамикой паарметров\n",
    "\n",
    "your_system = n mod 3\n",
    "\n",
    "a, b  - параметры\n",
    "\n",
    "\n",
    "   * y(x) = a - x and y(x) = x - 2b\n",
    "\n",
    "\n",
    "   * ax + by = 1 and a^2x - b^2y = a\n",
    "\n",
    "\n",
    "   * 3ax + 2by = 15 and ax - by = -5\n",
    "\n"
   ]
  },
  {
   "cell_type": "code",
   "execution_count": 76,
   "metadata": {},
   "outputs": [
    {
     "data": {
      "application/vnd.jupyter.widget-view+json": {
       "model_id": "5e342ee84f8c4e25bf900f98eaaa52b4",
       "version_major": 2,
       "version_minor": 0
      },
      "text/plain": [
       "interactive(children=(IntSlider(value=10, description='a', max=30, min=-10), IntSlider(value=10, description='…"
      ]
     },
     "metadata": {},
     "output_type": "display_data"
    }
   ],
   "source": [
    "### Task 1.3.2 Solution: \n",
    "\n",
    "\n",
    "%matplotlib inline\n",
    "from ipywidgets import interactive\n",
    "import matplotlib.pyplot as plt\n",
    "import numpy as np\n",
    "\n",
    "\n",
    "def f(a, b):\n",
    "    plt.figure()\n",
    "    x = np.linspace(-10, 10)\n",
    "    \n",
    "    plt.plot(x, (a * x - 1)/b)\n",
    "    \n",
    "    plt.plot(x, a * (a * x - 1)/b/b )\n",
    "    \n",
    "    \n",
    "    plt.ylim(-20, 20)\n",
    "    plt.show()\n",
    "\n",
    "    \n",
    "interactive(f, a = 10, b = 10 )\n",
    "\n",
    "\n",
    "\n",
    "\n",
    "\n",
    "\n",
    "\n",
    "\n",
    "\n",
    "\n",
    "\n",
    "\n",
    "\n",
    "\n",
    "\n",
    "\n",
    "\n",
    "\n",
    "\n",
    "\n"
   ]
  },
  {
   "cell_type": "markdown",
   "metadata": {},
   "source": [
    "### Task 1.3.3\n",
    " \n",
    " - Нарисовать систему функций с 2 параметрами из 1.3.2, с учетом \n",
    " \n",
    " - добавить туда точки пересечения этих функций, которые также меняются, завися от параметра\n",
    " \n",
    "\n",
    "\n",
    "\n",
    "\n"
   ]
  },
  {
   "cell_type": "code",
   "execution_count": 77,
   "metadata": {},
   "outputs": [
    {
     "data": {
      "application/vnd.jupyter.widget-view+json": {
       "model_id": "63edc3360451489aaa10f8ddf8cc195c",
       "version_major": 2,
       "version_minor": 0
      },
      "text/plain": [
       "interactive(children=(IntSlider(value=10, description='a', max=30, min=-10), IntSlider(value=10, description='…"
      ]
     },
     "metadata": {},
     "output_type": "display_data"
    }
   ],
   "source": [
    "### Task 1.3.3 Solution: \n",
    "\n",
    "%matplotlib inline\n",
    "from ipywidgets import interactive\n",
    "import matplotlib.pyplot as plt\n",
    "import numpy as np\n",
    "     \n",
    "   \n",
    "\n",
    "\n",
    "def f(a, b):\n",
    "    plt.figure()\n",
    "    x = np.linspace(-10, 10)\n",
    "    \n",
    "    plt.plot(x, (a * x - 1)/b)\n",
    "    \n",
    "    plt.plot(x, a * (a * x - 1)/b/b )\n",
    "    \n",
    "    if a != b :\n",
    "        x = 0;\n",
    "        y = 0;\n",
    "        plt.scatter (x, y, color = 'pink');\n",
    "    else :\n",
    "        plt.plot (x, (a * x - 1)/b, color = 'pink');\n",
    "    \n",
    "    \n",
    "    plt.ylim(-20, 20)\n",
    "    plt.show()\n",
    "\n",
    "    \n",
    "interactive(f, a = 10, b = 10 )\n"
   ]
  },
  {
   "cell_type": "markdown",
   "metadata": {},
   "source": [
    "![](https://lh3.googleusercontent.com/GBB_Z7iySa-odaPaX8UTnRpEZIvOQfhR_2aSyPynqwM0lkeOKhox73UT3SV5-jz1eRr_IGJ8qhQA7A1fAPzSuzP8JlRhR_xG9L8SpsAr3qacPPa2spU6pNX5oTxfnRhYcp7ksNOi)\n",
    "\n",
    "# 1.4 Data Science. Получение настоящих данных и их анализ \n",
    "\n",
    "Мы будем изучать население родных для Вас городов и субъектов РФ.\n",
    "\n",
    "Я буду использвоать регион Крым. \n",
    "\n",
    "\n",
    "\n",
    "Мы будем использовать данные из репозитория https://github.com/pensnarik/russian-cities/blob/master/parse.py , \n",
    "\n",
    "которые я предвариетльно скачал и \n",
    "\n",
    "Данные взяты из википедии \n",
    "\n",
    "https://ru.wikipedia.org/wiki/Список_городов_России\n",
    "\n",
    "\n",
    "Это список регионов для этого набора данных. Он будет важен!\n",
    "\n",
    "            Адыгея\n",
    "            Алтай\n",
    "            Алтайский край\n",
    "            Амурская область\n",
    "            Архангельская область\n",
    "            Астраханская область\n",
    "            Башкортостан\n",
    "            Белгородская область\n",
    "            Брянская область\n",
    "            Бурятия\n",
    "            Владимирская область\n",
    "            Волгоградская область\n",
    "            Вологодская область\n",
    "            Воронежская область\n",
    "            Дагестан\n",
    "            Еврейская АО\n",
    "            Забайкальский край\n",
    "            Ивановская область\n",
    "            Ингушетия\n",
    "            Иркутская область\n",
    "            Кабардино-Балкария\n",
    "            Калининградская область\n",
    "            Калмыкия\n",
    "            Калужская область\n",
    "            Камчатский край\n",
    "            Карачаево-Черкесия\n",
    "            Карелия\n",
    "            Кемеровская область\n",
    "            Кировская область\n",
    "            Коми\n",
    "            Костромская область\n",
    "            Краснодарский край\n",
    "            Красноярский край\n",
    "            Крым\n",
    "            Курганская область\n",
    "            Курская область\n",
    "            Ленинградская область\n",
    "            Липецкая область\n",
    "            Магаданская область\n",
    "            Марий Эл\n",
    "            Мордовия\n",
    "            Москва\n",
    "            Московская область\n",
    "            Мурманская область\n",
    "            Ненецкий АО\n",
    "            Нижегородская область\n",
    "            Новгородская область\n",
    "            Новосибирская область\n",
    "            Омская область\n",
    "            Оренбургская область\n",
    "            Орловская область\n",
    "            Пензенская область\n",
    "            Пермский край\n",
    "            Приморский край\n",
    "            Псковская область\n",
    "            Ростовская область\n",
    "            Рязанская область\n",
    "            Самарская область\n",
    "            Санкт-Петербург\n",
    "            Саратовская область\n",
    "            Сахалинская область\n",
    "            Свердловская область\n",
    "            Севастополь\n",
    "            Северная Осетия — Алания\n",
    "            Смоленская область\n",
    "            Ставропольский край\n",
    "            Тамбовская область\n",
    "            Татарстан\n",
    "            Тверская область\n",
    "            Томская область\n",
    "            Тульская область\n",
    "            Тыва\n",
    "            Тюменская область\n",
    "            Удмуртия\n",
    "            Ульяновская область\n",
    "            Хабаровский край\n",
    "            Хакасия\n",
    "            Ханты-Мансийский АО — Югра\n",
    "            Челябинская область\n",
    "            Чечня\n",
    "            Чувашия\n",
    "            Чукотский АО\n",
    "            Якутия\n",
    "            Ямало-Ненецкий АО\n",
    "            Ярославская область\n",
    "            \n",
    "            \n",
    "\n"
   ]
  },
  {
   "cell_type": "code",
   "execution_count": null,
   "metadata": {
    "scrolled": true
   },
   "outputs": [],
   "source": [
    " # Получение данных из удаленного репозитория\n",
    "    \n",
    "import requests  # pip install requests\n",
    "\n",
    "url = u'https://raw.githubusercontent.com/pensnarik/russian-cities/master/russian-cities.json'\n",
    "\n",
    "json_data = requests.get(url).json()\n",
    "\n",
    "\n"
   ]
  },
  {
   "cell_type": "code",
   "execution_count": null,
   "metadata": {},
   "outputs": [],
   "source": [
    "# Example Task 1.5\n",
    "\n",
    "your_subject = 'Крым'\n",
    "\n",
    "\n",
    "def get_all_cities_of_this_subject(subject):\n",
    "    data_s = []\n",
    "    for item in json_data:\n",
    "        if item['subject'] != subject:\n",
    "            continue\n",
    "        data_s.append(item)\n",
    "    return data_s\n",
    "\n",
    "\n",
    "\n",
    "data = get_all_cities_of_this_subject(your_subject)\n",
    "\n",
    "# Показ структуры полученных данных\n",
    "#print(\"\\n\\n Исходные даннные по субъекту такие: \\n\")\n",
    "#print(data)\n",
    "\n",
    "\n",
    "# Подготовка данных для отрисовки\n",
    "\n",
    "cities = []\n",
    "population = []\n",
    "\n",
    "for city in data:\n",
    "    cities.append(city['name'])\n",
    "    population.append(city['population'])\n",
    "    \n",
    "    \n",
    "print(\"\\n\\n Подготовленные данные по региону: \\n\")\n",
    "print(cities, population)\n",
    "    \n",
    "\n"
   ]
  },
  {
   "cell_type": "code",
   "execution_count": 86,
   "metadata": {},
   "outputs": [
    {
     "data": {
      "image/png": "[encoded data removed]",
      "text/plain": [
       "<Figure size 432x288 with 1 Axes>"
      ]
     },
     "metadata": {
      "needs_background": "light"
     },
     "output_type": "display_data"
    },
    {
     "data": {
      "image/png": "[encoded data removed]",
      "text/plain": [
       "<Figure size 432x288 with 1 Axes>"
      ]
     },
     "metadata": {
      "needs_background": "light"
     },
     "output_type": "display_data"
    }
   ],
   "source": [
    "# Попробуем визуализировать подготовленные данные\n",
    "\n",
    "plt.bar(cities, population, align='center')\n",
    "plt.show()\n",
    "\n",
    "# Попробуем поменять месатми оси\n",
    "\n",
    "plt.barh(cities, population, align='center')\n",
    "plt.show()"
   ]
  },
  {
   "cell_type": "markdown",
   "metadata": {},
   "source": [
    "### Task 1.4.1 Получить данные по Вашему региону и нарисовать эти данные диаграммой\n",
    " \n",
    "Можно использовать уже полученнеые результаты, данные из прошлых клеток\n",
    "\n",
    "+ \\+ попробовать отсортировать города по населению https://tproger.ru/translations/python-sorting/ или https://pythonz.net/references/named/list.sort/\n"
   ]
  },
  {
   "cell_type": "code",
   "execution_count": null,
   "metadata": {},
   "outputs": [],
   "source": [
    "### Task 1.4.1: Solution:\n",
    "\n",
    "import requests  # pip install requests\n",
    "\n",
    "url = u'https://raw.githubusercontent.com/pensnarik/russian-cities/master/russian-cities.json'\n",
    "\n",
    "json_data = requests.get(url).json()\n",
    "\n",
    "\n",
    "your_subject = 'Башкортостан'\n",
    "\n",
    "\n",
    "def get_all_cities_of_this_subject(subject):\n",
    "    data_s = []\n",
    "    for item in json_data:\n",
    "        if item['subject'] != subject:\n",
    "            continue\n",
    "        data_s.append(item)\n",
    "    return data_s\n",
    "\n",
    "\n",
    "\n",
    "data = get_all_cities_of_this_subject(your_subject)\n",
    "print (data)\n",
    "\n",
    "\n",
    "cities = []\n",
    "population = []\n",
    "slon = []\n",
    "latitude = [];\n",
    "longitude = [];\n",
    "for city in data:\n",
    "    slon.append(float(item['coords']['lat']))\n",
    "    slon.append(float(item['coords']['lon']))\n",
    "    slon.append(city['name'])\n",
    "    population.append(city['population'])\n",
    "    slon.append(city['population'])\n",
    "    \n",
    "    \n",
    "population.sort()    \n",
    "a = len(population)\n",
    "j = 0\n",
    "while a > 0:\n",
    "    i = 0\n",
    "    while slon[i] != population[j]:\n",
    "        i = i + 1\n",
    "    cities.append(slon[i-1])\n",
    "    longitude.append(slon[i-2])\n",
    "    latitude.append(slon[i-3])\n",
    "    j = j + 1\n",
    "    a = a - 1\n",
    "\n",
    "\n",
    "size = []\n",
    "l = len (cities)\n",
    "i = 0\n",
    "while l > 0:\n",
    "    a = population[i]*0.001\n",
    "    size.append(a)\n",
    "    i = i + 1\n",
    "    l = l - 1\n",
    "    \n",
    "l = len (longitude)\n",
    "i = 0\n",
    "# while l > 0:\n",
    "#   plt.scatter( longitude[i], latitude[i], size[i])\n",
    "#    l = l - 1\n",
    "#    i = i + 1\n",
    "    \n",
    "#import mplleaflet\n",
    "\n",
    "#mplleaflet.display()\n",
    "    \n",
    "print(\"\\n\\n Подготовленные данные по региону: \\n\")\n",
    "print(cities, population)\n",
    "    \n",
    "\n",
    "plt.barh(cities, population, align='center')\n",
    "plt.show()\n",
    "\n",
    "\n",
    "\n",
    "\n",
    "\n",
    "\n",
    "\n",
    "\n",
    "\n",
    "\n",
    "\n",
    "\n",
    "\n",
    "\n",
    "\n",
    "\n",
    "\n",
    "\n",
    "\n",
    "\n",
    "\n",
    "\n"
   ]
  },
  {
   "cell_type": "markdown",
   "metadata": {},
   "source": [
    "## 1.4.2. Работа с данными \n"
   ]
  },
  {
   "cell_type": "code",
   "execution_count": 89,
   "metadata": {},
   "outputs": [
    {
     "name": "stdout",
     "output_type": "stream",
     "text": [
      "[7771, 29078, 21987, 27448, 16354, 38622, 105719, 147033, 26268, 25146, 332317, 9277, 16492, 69038, 10620, 76746]\n",
      "16\n",
      "959916\n",
      "Middle:  59994.75\n",
      "Middle:  59994\n"
     ]
    }
   ],
   "source": [
    "\n",
    "print(population)\n",
    "\n",
    "\n",
    "### Найдем среднее значение\n",
    "\n",
    "sum = 0\n",
    "for n in population:\n",
    "    sum += n\n",
    "    \n",
    "number = len(population)\n",
    "\n",
    "print(number)\n",
    "print(sum)\n",
    "\n",
    "print(\"Middle: \", sum/number)\n",
    "### Вывод в целом int\n",
    "print(\"Middle: \", int(sum/number))"
   ]
  },
  {
   "cell_type": "code",
   "execution_count": null,
   "metadata": {},
   "outputs": [],
   "source": [
    "# Подготовка географических данных\n",
    "\n",
    "print(data)\n",
    "longitude = []\n",
    "latitude = []\n",
    "\n",
    "for item in data:\n",
    "    longitude.append(float(item['coords']['lon']))\n",
    "    latitude.append(float(item['coords']['lat']))\n",
    "    \n"
   ]
  },
  {
   "cell_type": "code",
   "execution_count": 72,
   "metadata": {},
   "outputs": [
    {
     "ename": "NameError",
     "evalue": "name 'longitude' is not defined",
     "output_type": "error",
     "traceback": [
      "\u001b[0;31m---------------------------------------------------------------------------\u001b[0m",
      "\u001b[0;31mNameError\u001b[0m                                 Traceback (most recent call last)",
      "\u001b[0;32m<ipython-input-72-99c6e06b7681>\u001b[0m in \u001b[0;36m<module>\u001b[0;34m\u001b[0m\n\u001b[1;32m      5\u001b[0m \u001b[0mplt\u001b[0m\u001b[0;34m.\u001b[0m\u001b[0mfigure\u001b[0m\u001b[0;34m(\u001b[0m\u001b[0mfigsize\u001b[0m\u001b[0;34m=\u001b[0m\u001b[0;34m(\u001b[0m\u001b[0;36m10\u001b[0m\u001b[0;34m,\u001b[0m\u001b[0;36m10\u001b[0m\u001b[0;34m)\u001b[0m\u001b[0;34m)\u001b[0m\u001b[0;34m\u001b[0m\u001b[0;34m\u001b[0m\u001b[0m\n\u001b[1;32m      6\u001b[0m \u001b[0;34m\u001b[0m\u001b[0m\n\u001b[0;32m----> 7\u001b[0;31m \u001b[0mplt\u001b[0m\u001b[0;34m.\u001b[0m\u001b[0mplot\u001b[0m\u001b[0;34m(\u001b[0m\u001b[0mlongitude\u001b[0m\u001b[0;34m,\u001b[0m \u001b[0mlatitude\u001b[0m\u001b[0;34m,\u001b[0m  \u001b[0;34m'rs'\u001b[0m\u001b[0;34m)\u001b[0m\u001b[0;34m\u001b[0m\u001b[0;34m\u001b[0m\u001b[0m\n\u001b[0m\u001b[1;32m      8\u001b[0m \u001b[0;34m\u001b[0m\u001b[0m\n\u001b[1;32m      9\u001b[0m \u001b[0;32mimport\u001b[0m \u001b[0mmplleaflet\u001b[0m\u001b[0;34m\u001b[0m\u001b[0;34m\u001b[0m\u001b[0m\n",
      "\u001b[0;31mNameError\u001b[0m: name 'longitude' is not defined"
     ]
    },
    {
     "data": {
      "text/plain": [
       "<Figure size 720x720 with 0 Axes>"
      ]
     },
     "metadata": {},
     "output_type": "display_data"
    }
   ],
   "source": [
    "# Визаулизация данных на карте\n",
    "\n",
    "import matplotlib.pyplot as plt\n",
    "\n",
    "plt.figure(figsize=(10,10))\n",
    "           \n",
    "plt.plot(longitude, latitude,  'rs')\n",
    "\n",
    "import mplleaflet\n",
    "\n",
    "mplleaflet.display()"
   ]
  },
  {
   "cell_type": "markdown",
   "metadata": {},
   "source": [
    "### Task 1.5. Нарисовать данные населения Вашего региона на карте + попробовать добавить точки городов диаметр которых пропорционален населению города.\n",
    "\n",
    "\n",
    "\n"
   ]
  },
  {
   "cell_type": "code",
   "execution_count": null,
   "metadata": {},
   "outputs": [],
   "source": [
    "import matplotlib.pyplot as plt\n",
    "\n",
    "size = []\n",
    "l = len (cities)\n",
    "i = 0\n",
    "while l > 0:\n",
    "    a = population[i]*0.001\n",
    "    size.append(a)\n",
    "    i = i + 1\n",
    "    l = l - 1\n",
    "    \n",
    "l = len (longitude)\n",
    "i = 0\n",
    "while l > 0:\n",
    "    plt.scatter( longitude[i], latitude[i], size[i])\n",
    "    l = l - 1\n",
    "    i = i + 1\n",
    "    \n",
    "import mplleaflet\n",
    "\n",
    "mplleaflet.display()\n"
   ]
  },
  {
   "cell_type": "markdown",
   "metadata": {},
   "source": [
    "# Удачи!"
   ]
  }
 ],
 "metadata": {
  "hide_input": false,
  "kernelspec": {
   "display_name": "Python 3",
   "language": "python",
   "name": "python3"
  },
  "language_info": {
   "codemirror_mode": {
    "name": "ipython",
    "version": 3
   },
   "file_extension": ".py",
   "mimetype": "text/x-python",
   "name": "python",
   "nbconvert_exporter": "python",
   "pygments_lexer": "ipython3",
   "version": "3.7.3"
  }
 },
 "nbformat": 4,
 "nbformat_minor": 2
}
